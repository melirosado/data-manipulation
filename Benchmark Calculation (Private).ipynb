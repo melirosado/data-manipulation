{
 "cells": [
  {
   "cell_type": "code",
   "execution_count": null,
   "metadata": {},
   "outputs": [],
   "source": [
    "#required packages\n",
    "library(\"DBI\", lib.loc=\"~/R/R-3.5.3/library\")\n",
    "library(\"tidyverse\", lib.loc=\"~/R/R-3.5.3/library\")\n",
    "library(\"reshape2\", lib.loc=\"~/R/R-3.5.3/library\")\n",
    "library(\"writexl\", lib.loc=\"~/R/R-3.5.3/library\")\n",
    "library(\"sqldf\", lib.loc=\"~/R/R-3.5.3/library\")\n"
   ]
  },
  {
   "cell_type": "code",
   "execution_count": 6,
   "metadata": {},
   "outputs": [],
   "source": [
    "#connect to database and pull data\n",
    "con <- dbConnect(odbc::odbc(), \"WorkForce\")\n",
    "data <-dbGetQuery(con,\"SELECT DW.DimRespondent.DW_Id,\n",
    "       DW.DimProject.ProjectNumber,\n",
    "\t   DW.DimFacility.FacilityName,\n",
    "\t   DW.DimItem.MasterItemNumber AS MasterItem, \n",
    "\t   CAST(DW.FactItemResponse.PerformanceScore AS numeric (4,2)) AS PerformanceScore\n",
    "\n",
    "\t  FROM  DW.DimRespondent\n",
    "            INNER JOIN DW.FactItemResponse ON DW.DimRespondent.DW_Id = DW.FactItemResponse.Respondent_DW_Id\n",
    "\t\t\tINNER JOIN DW.DimProject ON DW.FactItemResponse.Project_DW_Id = DW.DimProject.DW_Id\n",
    "            INNER JOIN DW.DimItem ON DW.FactItemResponse.Item_DW_Id = DW.DimItem.DW_Id \n",
    "\t\t\tINNER JOIN DW.DimSurvey ON DW.FactItemResponse.Survey_DW_Id = DW.DimSurvey.DW_Id\n",
    "\t\t\tINNER JOIN DW.DimSpecialty ON DW.FactItemResponse.Specialty_DW_Id = DW.DimSpecialty.DW_Id\n",
    "\t\t    INNER JOIN DW.DimFacility ON DW.FactItemResponse.Facility_DW_Id = DW.DimFacility.DW_Id\n",
    "\n",
    "\t  WHERE ( DW.FactItemResponse.PerformanceScore < 6 )\n",
    "        AND ( DW.FactItemResponse.PerformanceScore IS NOT NULL )\n",
    "\t\tAND ( DW.DimSurvey.productName IN ('Business & Industry: Engagement', 'Employee Engagement',\n",
    "\t\t'Employee Voice: Engagement', 'Nursing Excellence'))\n",
    "\t\tAND (DW.DimProject.ProjectNumber) IN (\n",
    "'project1', 'project2', 'project3')\n",
    "\n",
    "ORDER BY [DW_Id], [MasterItem]\")"
   ]
  },
  {
   "cell_type": "code",
   "execution_count": null,
   "metadata": {},
   "outputs": [],
   "source": [
    "#convert to DW_id to DWId\n",
    "names(data)[1]<-\"DWId\"\n",
    "\n",
    "#reduce number of decimals\n",
    "options(digits = 3)"
   ]
  },
  {
   "cell_type": "code",
   "execution_count": null,
   "metadata": {},
   "outputs": [],
   "source": [
    "#remove duplicate DWId (repeated surveys)\n",
    "#if duplicates have 2 different responses one will be eliminated\n",
    "​RESP <-distinct(data, DWId,MasterItem, .keep_all = TRUE)\n",
    "\n",
    "#Aggregate data - cube_views\n",
    "Cube_scores <-dcast(RESP,ProjectNumber + FacilityName ~ MasterItem, fun=mean, fill=0)\n",
    "​Cube_respondents<-dcast(RESP,ProjectNumber + FacilityName ~ MasterItem, value.var=\"PerformanceScore\", fill=0)\n"
   ]
  },
  {
   "cell_type": "code",
   "execution_count": null,
   "metadata": {},
   "outputs": [],
   "source": [
    "#remove facilities  that don’t meet respondent threshold <=15\n",
    "resp_fac <-distinct(RESP, DWId,FacilityName,ProjectNumber, .keep_all = FALSE)\n",
    "resp_fac2 <-summarise(group_by(resp_fac,ProjectNumber,FacilityName), count=n())\n",
    "resp_fac3<-resp_fac2[resp_fac2[,\"count\"]>=15,]\n"
   ]
  },
  {
   "cell_type": "code",
   "execution_count": null,
   "metadata": {},
   "outputs": [],
   "source": [
    "#merge cube_respondents with resp_fac3 to obtain new dataframe\n",
    "New_RESP<-sqldf(\"SELECT * FROM resp_fac3 LEFT JOIN Cube_respondents USING(ProjectNumber,FacilityName)\")\n",
    "New_RESP = subset(New_RESP, select = -c(count))"
   ]
  },
  {
   "cell_type": "code",
   "execution_count": null,
   "metadata": {},
   "outputs": [],
   "source": [
    "#Using new dataframe (New_RESP) determine which Master Items do not meet threshold <=10 per facility\n",
    "#Obtain new dataframe with accepted Master Items\n",
    "resp_MI<-melt(New_RESP, id.vars= c('ProjectNumber','FacilityName'),variable.name='MasterItem',value.name='Resp_count')\n",
    "resp_MI$MasterItem <- as.numeric(as.character(resp_MI$MasterItem))\n",
    "resp_MI2<-summarize(group_by(resp_MI[resp_MI[,\"Resp_count\"] > 0,], MasterItem), count=n())\n",
    "resp_MI3<-resp_MI2[resp_MI2[,\"count\"]>=10,]\n"
   ]
  },
  {
   "cell_type": "code",
   "execution_count": null,
   "metadata": {},
   "outputs": [],
   "source": [
    "#Using new dataframe (Cube_scores) determine which Master Items do not meet threshold <=5 per project\n",
    "#Obtain new dataframe with accepted Master Items\n",
    "Cube_respondents_proj<-dcast(RESP,ProjectNumber ~ MasterItem, value.var=\"PerformanceScore\", fill=0)\n",
    "resp_proj<-melt(Cube_respondents_proj, id.vars= c('ProjectNumber'),variable.name='MasterItem',value.name='Resp_count')\n",
    "resp_proj$MasterItem <- as.numeric(as.character(resp_proj$MasterItem))\n",
    "resp_proj2<-summarize(group_by(resp_proj[resp_proj[,\"Resp_count\"] > 0,], MasterItem), count=n())\n",
    "resp_proj3<-resp_proj2[resp_proj2[,\"count\"]>=5,]\n"
   ]
  },
  {
   "cell_type": "code",
   "execution_count": null,
   "metadata": {},
   "outputs": [],
   "source": [
    "#facilties to remove\n",
    "FacititesToRemove<-resp_fac2[resp_fac2[,\"count\"]<15,]\n",
    "FacititesToRemove<-subset(FacititesToRemove, select = -c(count))\n",
    "\n",
    "#MI to remove per facilty\n",
    "MiToRemoveFac<-resp_MI2[resp_MI2[,\"count\"]<10,]\n",
    "MiToRemoveFac<-subset(MiToRemoveFac,select= -c(count))\n",
    "\n",
    "#MI to remove per project\n",
    "MiToRemoveProj<-resp_proj2[resp_proj2[,\"count\"]<5,]\n",
    "MiToRemoveProj<-subset(MiToRemoveProj,select= -c(count))"
   ]
  },
  {
   "cell_type": "code",
   "execution_count": null,
   "metadata": {},
   "outputs": [],
   "source": [
    "#Merge MIToRemoveFac and MIToRemoveProj into MiToRemove\n",
    "#Remove Duplicates\n",
    "#sort\n",
    "MIToRemove <-union(MiToRemoveProj,MiToRemoveFac)\n",
    "MIToRemove <-MIToRemove[order(MIToRemove$MasterItem),]"
   ]
  },
  {
   "cell_type": "code",
   "execution_count": null,
   "metadata": {},
   "outputs": [],
   "source": [
    "#Create final dataset\n",
    "#Remove facilities + MI that did not meet threshold\n",
    "final_data <- RESP[apply(RESP, 1, function(r, A) { sum(A$ProjectNumber==r[\"ProjectNumber\"] & A$FacilityName==r[\"FacilityName\"])}, FacititesToRemove) == 0,]\n",
    "final_data <- final_data[!apply(final_data, 1, function(r, A) {as.numeric(r[\"MasterItem\"]) %in% A}, MIToRemove$MasterItem),]"
   ]
  },
  {
   "cell_type": "code",
   "execution_count": null,
   "metadata": {},
   "outputs": [],
   "source": [
    "#Average Performance Score per MI Output\n",
    "Final_Cube_Scores <-summarise(group_by(final_data, MasterItem), PerfScore=mean(PerformanceScore))\n",
    "write_xlsx(x = Final_Cube_Scores, path = \"C:\\\\Users\\\\sotom\\\\Desktop\\\\RTempOutput\\\\Final_Cube_Scores.csv\", col_names = TRUE)\n",
    "\n",
    "#New cubes\n",
    "New_Cube_scores <-dcast(final_data,ProjectNumber + FacilityName ~ MasterItem, fun=mean, fill=0)\n",
    "New_Cube_respondents<-dcast(final_data,ProjectNumber + FacilityName ~ MasterItem, value.var=\"PerformanceScore\", fill=0)\n",
    "write_xlsx(x = New_Cube_scores, path = \"C:\\\\Users\\\\sotom\\\\Desktop\\\\RTempOutput\\\\New_Cube_scores.csv\", col_names = TRUE)\n",
    "write_xlsx(x = New_Cube_respondents, path = \"C:\\\\Users\\\\sotom\\\\Desktop\\\\RTempOutput\\\\New_Cube_respondents.csv\", col_names = TRUE)\n",
    "\n",
    "#project count per MI before filters\n",
    "write_xlsx(x = resp_proj3, path = \"C:\\\\Users\\\\sotom\\\\Desktop\\\\RTempOutput\\\\ProjectCountperMI.csv\", col_names = TRUE)\n",
    "\n",
    "#end facility count per MI\n",
    "write_xlsx(x = resp_MI3, path = \"C:\\\\Users\\\\sotom\\\\Desktop\\\\RTempOutput\\\\FacilityCountperMI.csv\", col_names = TRUE)"
   ]
  }
 ],
 "metadata": {
  "kernelspec": {
   "display_name": "R",
   "language": "R",
   "name": "ir"
  },
  "language_info": {
   "codemirror_mode": "r",
   "file_extension": ".r",
   "mimetype": "text/x-r-source",
   "name": "R",
   "pygments_lexer": "r",
   "version": "3.5.3"
  }
 },
 "nbformat": 4,
 "nbformat_minor": 2
}
